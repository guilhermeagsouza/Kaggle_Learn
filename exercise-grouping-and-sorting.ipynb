{
 "cells": [
  {
   "cell_type": "markdown",
   "id": "a1884aa1",
   "metadata": {
    "papermill": {
     "duration": 0.007241,
     "end_time": "2022-10-06T00:29:49.447631",
     "exception": false,
     "start_time": "2022-10-06T00:29:49.440390",
     "status": "completed"
    },
    "tags": []
   },
   "source": [
    "**This notebook is an exercise in the [Pandas](https://www.kaggle.com/learn/pandas) course.  You can reference the tutorial at [this link](https://www.kaggle.com/residentmario/grouping-and-sorting).**\n",
    "\n",
    "---\n"
   ]
  },
  {
   "cell_type": "markdown",
   "id": "2c4cd2f3",
   "metadata": {
    "papermill": {
     "duration": 0.00574,
     "end_time": "2022-10-06T00:29:49.459543",
     "exception": false,
     "start_time": "2022-10-06T00:29:49.453803",
     "status": "completed"
    },
    "tags": []
   },
   "source": [
    "# Introduction\n",
    "\n",
    "In these exercises we'll apply groupwise analysis to our dataset.\n",
    "\n",
    "Run the code cell below to load the data before running the exercises."
   ]
  },
  {
   "cell_type": "code",
   "execution_count": 1,
   "id": "2a5329f7",
   "metadata": {
    "execution": {
     "iopub.execute_input": "2022-10-06T00:29:49.474064Z",
     "iopub.status.busy": "2022-10-06T00:29:49.473275Z",
     "iopub.status.idle": "2022-10-06T00:29:52.363698Z",
     "shell.execute_reply": "2022-10-06T00:29:52.362417Z"
    },
    "papermill": {
     "duration": 2.900677,
     "end_time": "2022-10-06T00:29:52.366332",
     "exception": false,
     "start_time": "2022-10-06T00:29:49.465655",
     "status": "completed"
    },
    "tags": []
   },
   "outputs": [
    {
     "name": "stdout",
     "output_type": "stream",
     "text": [
      "Setup complete.\n"
     ]
    }
   ],
   "source": [
    "import pandas as pd\n",
    "\n",
    "reviews = pd.read_csv(\"../input/wine-reviews/winemag-data-130k-v2.csv\", index_col=0)\n",
    "#pd.set_option(\"display.max_rows\", 5)\n",
    "\n",
    "from learntools.core import binder; binder.bind(globals())\n",
    "from learntools.pandas.grouping_and_sorting import *\n",
    "print(\"Setup complete.\")"
   ]
  },
  {
   "cell_type": "markdown",
   "id": "b878cfe5",
   "metadata": {
    "papermill": {
     "duration": 0.005718,
     "end_time": "2022-10-06T00:29:52.378267",
     "exception": false,
     "start_time": "2022-10-06T00:29:52.372549",
     "status": "completed"
    },
    "tags": []
   },
   "source": [
    "# Exercises"
   ]
  },
  {
   "cell_type": "markdown",
   "id": "1acba07b",
   "metadata": {
    "papermill": {
     "duration": 0.006091,
     "end_time": "2022-10-06T00:29:52.390521",
     "exception": false,
     "start_time": "2022-10-06T00:29:52.384430",
     "status": "completed"
    },
    "tags": []
   },
   "source": [
    "## 1.\n",
    "Who are the most common wine reviewers in the dataset? Create a `Series` whose index is the `taster_twitter_handle` category from the dataset, and whose values count how many reviews each person wrote."
   ]
  },
  {
   "cell_type": "code",
   "execution_count": 2,
   "id": "e765336b",
   "metadata": {
    "execution": {
     "iopub.execute_input": "2022-10-06T00:29:52.404351Z",
     "iopub.status.busy": "2022-10-06T00:29:52.403689Z",
     "iopub.status.idle": "2022-10-06T00:29:52.432014Z",
     "shell.execute_reply": "2022-10-06T00:29:52.430934Z"
    },
    "papermill": {
     "duration": 0.03788,
     "end_time": "2022-10-06T00:29:52.434347",
     "exception": false,
     "start_time": "2022-10-06T00:29:52.396467",
     "status": "completed"
    },
    "tags": []
   },
   "outputs": [
    {
     "data": {
      "application/javascript": [
       "parent.postMessage({\"jupyterEvent\": \"custom.exercise_interaction\", \"data\": {\"outcomeType\": 1, \"valueTowardsCompletion\": 0.16666666666666666, \"interactionType\": 1, \"questionType\": 1, \"questionId\": \"1_ReviewsWritten\", \"learnToolsVersion\": \"0.3.4\", \"failureMessage\": \"\", \"exceptionClass\": \"\", \"trace\": \"\"}}, \"*\")"
      ],
      "text/plain": [
       "<IPython.core.display.Javascript object>"
      ]
     },
     "metadata": {},
     "output_type": "display_data"
    },
    {
     "data": {
      "text/markdown": [
       "<span style=\"color:#33cc33\">Correct:</span> \n",
       "\n",
       "\n",
       "```python\n",
       "reviews_written = reviews.groupby('taster_twitter_handle').size()\n",
       "```\n",
       "or\n",
       "```python\n",
       "reviews_written = reviews.groupby('taster_twitter_handle').taster_twitter_handle.count()\n",
       "```\n"
      ],
      "text/plain": [
       "Correct: \n",
       "\n",
       "\n",
       "```python\n",
       "reviews_written = reviews.groupby('taster_twitter_handle').size()\n",
       "```\n",
       "or\n",
       "```python\n",
       "reviews_written = reviews.groupby('taster_twitter_handle').taster_twitter_handle.count()\n",
       "```"
      ]
     },
     "metadata": {},
     "output_type": "display_data"
    }
   ],
   "source": [
    "# Your code here\n",
    "reviews_written = reviews.groupby('taster_twitter_handle').taster_twitter_handle.count()\n",
    "reviews_written\n",
    "\n",
    "# Check your answer\n",
    "q1.check()"
   ]
  },
  {
   "cell_type": "code",
   "execution_count": 3,
   "id": "f9771d6f",
   "metadata": {
    "execution": {
     "iopub.execute_input": "2022-10-06T00:29:52.449281Z",
     "iopub.status.busy": "2022-10-06T00:29:52.448569Z",
     "iopub.status.idle": "2022-10-06T00:29:52.460267Z",
     "shell.execute_reply": "2022-10-06T00:29:52.459217Z"
    },
    "papermill": {
     "duration": 0.021774,
     "end_time": "2022-10-06T00:29:52.462478",
     "exception": false,
     "start_time": "2022-10-06T00:29:52.440704",
     "status": "completed"
    },
    "tags": []
   },
   "outputs": [
    {
     "data": {
      "application/javascript": [
       "parent.postMessage({\"jupyterEvent\": \"custom.exercise_interaction\", \"data\": {\"interactionType\": 2, \"questionType\": 1, \"questionId\": \"1_ReviewsWritten\", \"learnToolsVersion\": \"0.3.4\", \"valueTowardsCompletion\": 0.0, \"failureMessage\": \"\", \"exceptionClass\": \"\", \"trace\": \"\", \"outcomeType\": 4}}, \"*\")"
      ],
      "text/plain": [
       "<IPython.core.display.Javascript object>"
      ]
     },
     "metadata": {},
     "output_type": "display_data"
    },
    {
     "data": {
      "text/markdown": [
       "<span style=\"color:#3366cc\">Hint:</span> Use the `groupby` operation and `size()` (or `count()`)."
      ],
      "text/plain": [
       "Hint: Use the `groupby` operation and `size()` (or `count()`)."
      ]
     },
     "metadata": {},
     "output_type": "display_data"
    },
    {
     "data": {
      "application/javascript": [
       "parent.postMessage({\"jupyterEvent\": \"custom.exercise_interaction\", \"data\": {\"interactionType\": 3, \"questionType\": 1, \"questionId\": \"1_ReviewsWritten\", \"learnToolsVersion\": \"0.3.4\", \"valueTowardsCompletion\": 0.0, \"failureMessage\": \"\", \"exceptionClass\": \"\", \"trace\": \"\", \"outcomeType\": 4}}, \"*\")"
      ],
      "text/plain": [
       "<IPython.core.display.Javascript object>"
      ]
     },
     "metadata": {},
     "output_type": "display_data"
    },
    {
     "data": {
      "text/markdown": [
       "<span style=\"color:#33cc99\">Solution:</span> \n",
       "```python\n",
       "reviews_written = reviews.groupby('taster_twitter_handle').size()\n",
       "```\n",
       "or\n",
       "```python\n",
       "reviews_written = reviews.groupby('taster_twitter_handle').taster_twitter_handle.count()\n",
       "```\n"
      ],
      "text/plain": [
       "Solution: \n",
       "```python\n",
       "reviews_written = reviews.groupby('taster_twitter_handle').size()\n",
       "```\n",
       "or\n",
       "```python\n",
       "reviews_written = reviews.groupby('taster_twitter_handle').taster_twitter_handle.count()\n",
       "```"
      ]
     },
     "metadata": {},
     "output_type": "display_data"
    }
   ],
   "source": [
    "q1.hint()\n",
    "q1.solution()"
   ]
  },
  {
   "cell_type": "markdown",
   "id": "c1faf7e7",
   "metadata": {
    "papermill": {
     "duration": 0.006281,
     "end_time": "2022-10-06T00:29:52.475388",
     "exception": false,
     "start_time": "2022-10-06T00:29:52.469107",
     "status": "completed"
    },
    "tags": []
   },
   "source": [
    "## 2.\n",
    "What is the best wine I can buy for a given amount of money? Create a `Series` whose index is wine prices and whose values is the maximum number of points a wine costing that much was given in a review. Sort the values by price, ascending (so that `4.0` dollars is at the top and `3300.0` dollars is at the bottom)."
   ]
  },
  {
   "cell_type": "code",
   "execution_count": 4,
   "id": "99d03792",
   "metadata": {
    "execution": {
     "iopub.execute_input": "2022-10-06T00:29:52.490821Z",
     "iopub.status.busy": "2022-10-06T00:29:52.490161Z",
     "iopub.status.idle": "2022-10-06T00:29:52.504903Z",
     "shell.execute_reply": "2022-10-06T00:29:52.504033Z"
    },
    "papermill": {
     "duration": 0.025034,
     "end_time": "2022-10-06T00:29:52.506997",
     "exception": false,
     "start_time": "2022-10-06T00:29:52.481963",
     "status": "completed"
    },
    "tags": []
   },
   "outputs": [
    {
     "data": {
      "application/javascript": [
       "parent.postMessage({\"jupyterEvent\": \"custom.exercise_interaction\", \"data\": {\"outcomeType\": 1, \"valueTowardsCompletion\": 0.16666666666666666, \"interactionType\": 1, \"questionType\": 1, \"questionId\": \"2_BestRatingPerPrice\", \"learnToolsVersion\": \"0.3.4\", \"failureMessage\": \"\", \"exceptionClass\": \"\", \"trace\": \"\"}}, \"*\")"
      ],
      "text/plain": [
       "<IPython.core.display.Javascript object>"
      ]
     },
     "metadata": {},
     "output_type": "display_data"
    },
    {
     "data": {
      "text/markdown": [
       "<span style=\"color:#33cc33\">Correct</span>"
      ],
      "text/plain": [
       "Correct"
      ]
     },
     "metadata": {},
     "output_type": "display_data"
    }
   ],
   "source": [
    "best_rating_per_price = reviews.groupby('price')['points'].max().sort_index()\n",
    "# Check your answer\n",
    "q2.check()"
   ]
  },
  {
   "cell_type": "code",
   "execution_count": 5,
   "id": "d8e581cc",
   "metadata": {
    "execution": {
     "iopub.execute_input": "2022-10-06T00:29:52.523598Z",
     "iopub.status.busy": "2022-10-06T00:29:52.522919Z",
     "iopub.status.idle": "2022-10-06T00:29:52.535404Z",
     "shell.execute_reply": "2022-10-06T00:29:52.534591Z"
    },
    "papermill": {
     "duration": 0.022694,
     "end_time": "2022-10-06T00:29:52.537486",
     "exception": false,
     "start_time": "2022-10-06T00:29:52.514792",
     "status": "completed"
    },
    "tags": []
   },
   "outputs": [
    {
     "data": {
      "application/javascript": [
       "parent.postMessage({\"jupyterEvent\": \"custom.exercise_interaction\", \"data\": {\"interactionType\": 2, \"questionType\": 1, \"questionId\": \"2_BestRatingPerPrice\", \"learnToolsVersion\": \"0.3.4\", \"valueTowardsCompletion\": 0.0, \"failureMessage\": \"\", \"exceptionClass\": \"\", \"trace\": \"\", \"outcomeType\": 4}}, \"*\")"
      ],
      "text/plain": [
       "<IPython.core.display.Javascript object>"
      ]
     },
     "metadata": {},
     "output_type": "display_data"
    },
    {
     "data": {
      "text/markdown": [
       "<span style=\"color:#3366cc\">Hint:</span> Use `max()` and `sort_index()`.  The relevant columns in the DataFrame are `price` and `points`."
      ],
      "text/plain": [
       "Hint: Use `max()` and `sort_index()`.  The relevant columns in the DataFrame are `price` and `points`."
      ]
     },
     "metadata": {},
     "output_type": "display_data"
    },
    {
     "data": {
      "application/javascript": [
       "parent.postMessage({\"jupyterEvent\": \"custom.exercise_interaction\", \"data\": {\"interactionType\": 3, \"questionType\": 1, \"questionId\": \"2_BestRatingPerPrice\", \"learnToolsVersion\": \"0.3.4\", \"valueTowardsCompletion\": 0.0, \"failureMessage\": \"\", \"exceptionClass\": \"\", \"trace\": \"\", \"outcomeType\": 4}}, \"*\")"
      ],
      "text/plain": [
       "<IPython.core.display.Javascript object>"
      ]
     },
     "metadata": {},
     "output_type": "display_data"
    },
    {
     "data": {
      "text/markdown": [
       "<span style=\"color:#33cc99\">Solution:</span> \n",
       "```python\n",
       "best_rating_per_price = reviews.groupby('price')['points'].max().sort_index()\n",
       "```"
      ],
      "text/plain": [
       "Solution: \n",
       "```python\n",
       "best_rating_per_price = reviews.groupby('price')['points'].max().sort_index()\n",
       "```"
      ]
     },
     "metadata": {},
     "output_type": "display_data"
    }
   ],
   "source": [
    "q2.hint()\n",
    "q2.solution()"
   ]
  },
  {
   "cell_type": "markdown",
   "id": "38b25f96",
   "metadata": {
    "papermill": {
     "duration": 0.007064,
     "end_time": "2022-10-06T00:29:52.551868",
     "exception": false,
     "start_time": "2022-10-06T00:29:52.544804",
     "status": "completed"
    },
    "tags": []
   },
   "source": [
    "## 3.\n",
    "What are the minimum and maximum prices for each `variety` of wine? Create a `DataFrame` whose index is the `variety` category from the dataset and whose values are the `min` and `max` values thereof."
   ]
  },
  {
   "cell_type": "code",
   "execution_count": 6,
   "id": "8a42e4cf",
   "metadata": {
    "execution": {
     "iopub.execute_input": "2022-10-06T00:29:52.568712Z",
     "iopub.status.busy": "2022-10-06T00:29:52.568075Z",
     "iopub.status.idle": "2022-10-06T00:29:52.592279Z",
     "shell.execute_reply": "2022-10-06T00:29:52.591093Z"
    },
    "papermill": {
     "duration": 0.035318,
     "end_time": "2022-10-06T00:29:52.594407",
     "exception": false,
     "start_time": "2022-10-06T00:29:52.559089",
     "status": "completed"
    },
    "tags": []
   },
   "outputs": [
    {
     "data": {
      "application/javascript": [
       "parent.postMessage({\"jupyterEvent\": \"custom.exercise_interaction\", \"data\": {\"outcomeType\": 1, \"valueTowardsCompletion\": 0.16666666666666666, \"interactionType\": 1, \"questionType\": 1, \"questionId\": \"3_PriceExtremes\", \"learnToolsVersion\": \"0.3.4\", \"failureMessage\": \"\", \"exceptionClass\": \"\", \"trace\": \"\"}}, \"*\")"
      ],
      "text/plain": [
       "<IPython.core.display.Javascript object>"
      ]
     },
     "metadata": {},
     "output_type": "display_data"
    },
    {
     "data": {
      "text/markdown": [
       "<span style=\"color:#33cc33\">Correct</span>"
      ],
      "text/plain": [
       "Correct"
      ]
     },
     "metadata": {},
     "output_type": "display_data"
    }
   ],
   "source": [
    "price_extremes = reviews.groupby('variety').price.agg(['min','max'])\n",
    "\n",
    "# Check your answer\n",
    "q3.check()"
   ]
  },
  {
   "cell_type": "code",
   "execution_count": 7,
   "id": "e7dbd039",
   "metadata": {
    "execution": {
     "iopub.execute_input": "2022-10-06T00:29:52.611253Z",
     "iopub.status.busy": "2022-10-06T00:29:52.610613Z",
     "iopub.status.idle": "2022-10-06T00:29:52.614842Z",
     "shell.execute_reply": "2022-10-06T00:29:52.614093Z"
    },
    "papermill": {
     "duration": 0.015162,
     "end_time": "2022-10-06T00:29:52.617109",
     "exception": false,
     "start_time": "2022-10-06T00:29:52.601947",
     "status": "completed"
    },
    "tags": []
   },
   "outputs": [],
   "source": [
    "#q3.hint()\n",
    "#q3.solution()"
   ]
  },
  {
   "cell_type": "markdown",
   "id": "b872e3e8",
   "metadata": {
    "papermill": {
     "duration": 0.007472,
     "end_time": "2022-10-06T00:29:52.632341",
     "exception": false,
     "start_time": "2022-10-06T00:29:52.624869",
     "status": "completed"
    },
    "tags": []
   },
   "source": [
    "## 4.\n",
    "What are the most expensive wine varieties? Create a variable `sorted_varieties` containing a copy of the dataframe from the previous question where varieties are sorted in descending order based on minimum price, then on maximum price (to break ties)."
   ]
  },
  {
   "cell_type": "code",
   "execution_count": 8,
   "id": "6b1a6a2d",
   "metadata": {
    "execution": {
     "iopub.execute_input": "2022-10-06T00:29:52.649041Z",
     "iopub.status.busy": "2022-10-06T00:29:52.648601Z",
     "iopub.status.idle": "2022-10-06T00:29:52.659159Z",
     "shell.execute_reply": "2022-10-06T00:29:52.658423Z"
    },
    "papermill": {
     "duration": 0.021318,
     "end_time": "2022-10-06T00:29:52.661229",
     "exception": false,
     "start_time": "2022-10-06T00:29:52.639911",
     "status": "completed"
    },
    "tags": []
   },
   "outputs": [
    {
     "data": {
      "application/javascript": [
       "parent.postMessage({\"jupyterEvent\": \"custom.exercise_interaction\", \"data\": {\"outcomeType\": 1, \"valueTowardsCompletion\": 0.16666666666666666, \"interactionType\": 1, \"questionType\": 1, \"questionId\": \"4_SortedVarieties\", \"learnToolsVersion\": \"0.3.4\", \"failureMessage\": \"\", \"exceptionClass\": \"\", \"trace\": \"\"}}, \"*\")"
      ],
      "text/plain": [
       "<IPython.core.display.Javascript object>"
      ]
     },
     "metadata": {},
     "output_type": "display_data"
    },
    {
     "data": {
      "text/markdown": [
       "<span style=\"color:#33cc33\">Correct</span>"
      ],
      "text/plain": [
       "Correct"
      ]
     },
     "metadata": {},
     "output_type": "display_data"
    }
   ],
   "source": [
    "sorted_varieties = price_extremes.sort_values(by = ['min','max'], ascending=False)\n",
    "\n",
    "# Check your answer\n",
    "q4.check()"
   ]
  },
  {
   "cell_type": "code",
   "execution_count": 9,
   "id": "43139ea7",
   "metadata": {
    "execution": {
     "iopub.execute_input": "2022-10-06T00:29:52.679317Z",
     "iopub.status.busy": "2022-10-06T00:29:52.678589Z",
     "iopub.status.idle": "2022-10-06T00:29:52.682628Z",
     "shell.execute_reply": "2022-10-06T00:29:52.681855Z"
    },
    "papermill": {
     "duration": 0.015542,
     "end_time": "2022-10-06T00:29:52.684666",
     "exception": false,
     "start_time": "2022-10-06T00:29:52.669124",
     "status": "completed"
    },
    "tags": []
   },
   "outputs": [],
   "source": [
    "#q4.hint()\n",
    "#q4.solution()"
   ]
  },
  {
   "cell_type": "markdown",
   "id": "c1c1bd9e",
   "metadata": {
    "papermill": {
     "duration": 0.007566,
     "end_time": "2022-10-06T00:29:52.700257",
     "exception": false,
     "start_time": "2022-10-06T00:29:52.692691",
     "status": "completed"
    },
    "tags": []
   },
   "source": [
    "## 5.\n",
    "Create a `Series` whose index is reviewers and whose values is the average review score given out by that reviewer. Hint: you will need the `taster_name` and `points` columns."
   ]
  },
  {
   "cell_type": "code",
   "execution_count": 10,
   "id": "f597046b",
   "metadata": {
    "execution": {
     "iopub.execute_input": "2022-10-06T00:29:52.717571Z",
     "iopub.status.busy": "2022-10-06T00:29:52.717135Z",
     "iopub.status.idle": "2022-10-06T00:29:52.738167Z",
     "shell.execute_reply": "2022-10-06T00:29:52.737299Z"
    },
    "papermill": {
     "duration": 0.032398,
     "end_time": "2022-10-06T00:29:52.740506",
     "exception": false,
     "start_time": "2022-10-06T00:29:52.708108",
     "status": "completed"
    },
    "tags": []
   },
   "outputs": [
    {
     "data": {
      "application/javascript": [
       "parent.postMessage({\"jupyterEvent\": \"custom.exercise_interaction\", \"data\": {\"outcomeType\": 1, \"valueTowardsCompletion\": 0.16666666666666666, \"interactionType\": 1, \"questionType\": 1, \"questionId\": \"5_ReviewerMeanRatings\", \"learnToolsVersion\": \"0.3.4\", \"failureMessage\": \"\", \"exceptionClass\": \"\", \"trace\": \"\"}}, \"*\")"
      ],
      "text/plain": [
       "<IPython.core.display.Javascript object>"
      ]
     },
     "metadata": {},
     "output_type": "display_data"
    },
    {
     "data": {
      "text/markdown": [
       "<span style=\"color:#33cc33\">Correct</span>"
      ],
      "text/plain": [
       "Correct"
      ]
     },
     "metadata": {},
     "output_type": "display_data"
    }
   ],
   "source": [
    "reviewer_mean_ratings = reviews.groupby('taster_name').points.mean()\n",
    "\n",
    "# Check your answer\n",
    "q5.check()"
   ]
  },
  {
   "cell_type": "code",
   "execution_count": 11,
   "id": "a12008b1",
   "metadata": {
    "execution": {
     "iopub.execute_input": "2022-10-06T00:29:52.760120Z",
     "iopub.status.busy": "2022-10-06T00:29:52.758930Z",
     "iopub.status.idle": "2022-10-06T00:29:52.766908Z",
     "shell.execute_reply": "2022-10-06T00:29:52.766071Z"
    },
    "papermill": {
     "duration": 0.019952,
     "end_time": "2022-10-06T00:29:52.769022",
     "exception": false,
     "start_time": "2022-10-06T00:29:52.749070",
     "status": "completed"
    },
    "tags": []
   },
   "outputs": [
    {
     "data": {
      "application/javascript": [
       "parent.postMessage({\"jupyterEvent\": \"custom.exercise_interaction\", \"data\": {\"interactionType\": 2, \"questionType\": 1, \"questionId\": \"5_ReviewerMeanRatings\", \"learnToolsVersion\": \"0.3.4\", \"valueTowardsCompletion\": 0.0, \"failureMessage\": \"\", \"exceptionClass\": \"\", \"trace\": \"\", \"outcomeType\": 4}}, \"*\")"
      ],
      "text/plain": [
       "<IPython.core.display.Javascript object>"
      ]
     },
     "metadata": {},
     "output_type": "display_data"
    },
    {
     "data": {
      "text/markdown": [
       "<span style=\"color:#3366cc\">Hint:</span> Use `mean()`."
      ],
      "text/plain": [
       "Hint: Use `mean()`."
      ]
     },
     "metadata": {},
     "output_type": "display_data"
    }
   ],
   "source": [
    "q5.hint()\n",
    "#q5.solution()"
   ]
  },
  {
   "cell_type": "markdown",
   "id": "e742fad1",
   "metadata": {
    "papermill": {
     "duration": 0.008179,
     "end_time": "2022-10-06T00:29:52.785617",
     "exception": false,
     "start_time": "2022-10-06T00:29:52.777438",
     "status": "completed"
    },
    "tags": []
   },
   "source": [
    "Are there significant differences in the average scores assigned by the various reviewers? Run the cell below to use the `describe()` method to see a summary of the range of values."
   ]
  },
  {
   "cell_type": "code",
   "execution_count": 12,
   "id": "440c7c88",
   "metadata": {
    "execution": {
     "iopub.execute_input": "2022-10-06T00:29:52.805363Z",
     "iopub.status.busy": "2022-10-06T00:29:52.804132Z",
     "iopub.status.idle": "2022-10-06T00:29:52.816895Z",
     "shell.execute_reply": "2022-10-06T00:29:52.816160Z"
    },
    "papermill": {
     "duration": 0.024742,
     "end_time": "2022-10-06T00:29:52.818933",
     "exception": false,
     "start_time": "2022-10-06T00:29:52.794191",
     "status": "completed"
    },
    "tags": []
   },
   "outputs": [
    {
     "data": {
      "text/plain": [
       "count    19.000000\n",
       "mean     88.233026\n",
       "std       1.243610\n",
       "min      85.855422\n",
       "25%      87.323501\n",
       "50%      88.536235\n",
       "75%      88.975256\n",
       "max      90.562551\n",
       "Name: points, dtype: float64"
      ]
     },
     "execution_count": 12,
     "metadata": {},
     "output_type": "execute_result"
    }
   ],
   "source": [
    "reviewer_mean_ratings.describe()"
   ]
  },
  {
   "cell_type": "markdown",
   "id": "f846a3be",
   "metadata": {
    "papermill": {
     "duration": 0.00813,
     "end_time": "2022-10-06T00:29:52.835501",
     "exception": false,
     "start_time": "2022-10-06T00:29:52.827371",
     "status": "completed"
    },
    "tags": []
   },
   "source": [
    "## 6.\n",
    "What combination of countries and varieties are most common? Create a `Series` whose index is a `MultiIndex`of `{country, variety}` pairs. For example, a pinot noir produced in the US should map to `{\"US\", \"Pinot Noir\"}`. Sort the values in the `Series` in descending order based on wine count."
   ]
  },
  {
   "cell_type": "code",
   "execution_count": 13,
   "id": "82cdb384",
   "metadata": {
    "execution": {
     "iopub.execute_input": "2022-10-06T00:29:52.854672Z",
     "iopub.status.busy": "2022-10-06T00:29:52.853479Z",
     "iopub.status.idle": "2022-10-06T00:29:52.888552Z",
     "shell.execute_reply": "2022-10-06T00:29:52.887675Z"
    },
    "papermill": {
     "duration": 0.047106,
     "end_time": "2022-10-06T00:29:52.890953",
     "exception": false,
     "start_time": "2022-10-06T00:29:52.843847",
     "status": "completed"
    },
    "tags": []
   },
   "outputs": [
    {
     "data": {
      "text/plain": [
       "country  variety                 \n",
       "US       Pinot Noir                  9885\n",
       "         Cabernet Sauvignon          7315\n",
       "         Chardonnay                  6801\n",
       "France   Bordeaux-style Red Blend    4725\n",
       "Italy    Red Blend                   3624\n",
       "                                     ... \n",
       "Mexico   Cinsault                       1\n",
       "         Grenache                       1\n",
       "         Merlot                         1\n",
       "         Rosado                         1\n",
       "Uruguay  White Blend                    1\n",
       "Length: 1612, dtype: int64"
      ]
     },
     "execution_count": 13,
     "metadata": {},
     "output_type": "execute_result"
    }
   ],
   "source": [
    "reviews.groupby(['country','variety']).size().sort_values(ascending=False)"
   ]
  },
  {
   "cell_type": "code",
   "execution_count": 14,
   "id": "21c22a25",
   "metadata": {
    "execution": {
     "iopub.execute_input": "2022-10-06T00:29:52.910528Z",
     "iopub.status.busy": "2022-10-06T00:29:52.910139Z",
     "iopub.status.idle": "2022-10-06T00:29:52.944367Z",
     "shell.execute_reply": "2022-10-06T00:29:52.943332Z"
    },
    "papermill": {
     "duration": 0.046136,
     "end_time": "2022-10-06T00:29:52.946456",
     "exception": false,
     "start_time": "2022-10-06T00:29:52.900320",
     "status": "completed"
    },
    "tags": []
   },
   "outputs": [
    {
     "data": {
      "application/javascript": [
       "parent.postMessage({\"jupyterEvent\": \"custom.exercise_interaction\", \"data\": {\"outcomeType\": 1, \"valueTowardsCompletion\": 0.16666666666666666, \"interactionType\": 1, \"questionType\": 1, \"questionId\": \"6_GroupbyCountryVariety\", \"learnToolsVersion\": \"0.3.4\", \"failureMessage\": \"\", \"exceptionClass\": \"\", \"trace\": \"\"}}, \"*\")"
      ],
      "text/plain": [
       "<IPython.core.display.Javascript object>"
      ]
     },
     "metadata": {},
     "output_type": "display_data"
    },
    {
     "data": {
      "text/markdown": [
       "<span style=\"color:#33cc33\">Correct</span>"
      ],
      "text/plain": [
       "Correct"
      ]
     },
     "metadata": {},
     "output_type": "display_data"
    }
   ],
   "source": [
    "country_variety_counts = reviews.groupby(['country','variety']).size().sort_values(ascending=False)\n",
    "\n",
    "# Check your answer\n",
    "q6.check()"
   ]
  },
  {
   "cell_type": "code",
   "execution_count": 15,
   "id": "7b1f9752",
   "metadata": {
    "execution": {
     "iopub.execute_input": "2022-10-06T00:29:52.965547Z",
     "iopub.status.busy": "2022-10-06T00:29:52.965172Z",
     "iopub.status.idle": "2022-10-06T00:29:52.970227Z",
     "shell.execute_reply": "2022-10-06T00:29:52.969039Z"
    },
    "papermill": {
     "duration": 0.017822,
     "end_time": "2022-10-06T00:29:52.972987",
     "exception": false,
     "start_time": "2022-10-06T00:29:52.955165",
     "status": "completed"
    },
    "tags": []
   },
   "outputs": [],
   "source": [
    "#q6.hint()\n",
    "#q6.solution()"
   ]
  },
  {
   "cell_type": "markdown",
   "id": "f74d1d4c",
   "metadata": {
    "papermill": {
     "duration": 0.008632,
     "end_time": "2022-10-06T00:29:52.991152",
     "exception": false,
     "start_time": "2022-10-06T00:29:52.982520",
     "status": "completed"
    },
    "tags": []
   },
   "source": [
    "# Keep going\n",
    "\n",
    "Move on to the [**data types and missing data**](https://www.kaggle.com/residentmario/data-types-and-missing-values)."
   ]
  },
  {
   "cell_type": "markdown",
   "id": "214d780a",
   "metadata": {
    "papermill": {
     "duration": 0.008579,
     "end_time": "2022-10-06T00:29:53.008492",
     "exception": false,
     "start_time": "2022-10-06T00:29:52.999913",
     "status": "completed"
    },
    "tags": []
   },
   "source": [
    "---\n",
    "\n",
    "\n",
    "\n",
    "\n",
    "*Have questions or comments? Visit the [course discussion forum](https://www.kaggle.com/learn/pandas/discussion) to chat with other learners.*"
   ]
  }
 ],
 "metadata": {
  "kernelspec": {
   "display_name": "Python 3",
   "language": "python",
   "name": "python3"
  },
  "language_info": {
   "codemirror_mode": {
    "name": "ipython",
    "version": 3
   },
   "file_extension": ".py",
   "mimetype": "text/x-python",
   "name": "python",
   "nbconvert_exporter": "python",
   "pygments_lexer": "ipython3",
   "version": "3.7.12"
  },
  "papermill": {
   "default_parameters": {},
   "duration": 13.643408,
   "end_time": "2022-10-06T00:29:53.738957",
   "environment_variables": {},
   "exception": null,
   "input_path": "__notebook__.ipynb",
   "output_path": "__notebook__.ipynb",
   "parameters": {},
   "start_time": "2022-10-06T00:29:40.095549",
   "version": "2.3.4"
  }
 },
 "nbformat": 4,
 "nbformat_minor": 5
}
